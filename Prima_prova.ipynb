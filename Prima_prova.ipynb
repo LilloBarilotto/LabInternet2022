{
 "cells": [
  {
   "cell_type": "code",
   "execution_count": 1,
   "id": "d8ea0fc6",
   "metadata": {},
   "outputs": [],
   "source": [
    "import matplotlib.pyplot as plt\n",
    "import numpy as np\n",
    "import pandas as pd\n",
    "import plotly.express as px"
   ]
  },
  {
   "cell_type": "code",
   "execution_count": 3,
   "id": "6d3dbc61",
   "metadata": {},
   "outputs": [
    {
     "data": {
      "text/html": [
       "<div>\n",
       "<style scoped>\n",
       "    .dataframe tbody tr th:only-of-type {\n",
       "        vertical-align: middle;\n",
       "    }\n",
       "\n",
       "    .dataframe tbody tr th {\n",
       "        vertical-align: top;\n",
       "    }\n",
       "\n",
       "    .dataframe thead th {\n",
       "        text-align: right;\n",
       "    }\n",
       "</style>\n",
       "<table border=\"1\" class=\"dataframe\">\n",
       "  <thead>\n",
       "    <tr style=\"text-align: right;\">\n",
       "      <th></th>\n",
       "      <th>16</th>\n",
       "      <th>0.589</th>\n",
       "      <th>0.666</th>\n",
       "      <th>0.692</th>\n",
       "    </tr>\n",
       "  </thead>\n",
       "  <tbody>\n",
       "    <tr>\n",
       "      <th>0</th>\n",
       "      <td>116</td>\n",
       "      <td>1.062</td>\n",
       "      <td>1.117</td>\n",
       "      <td>1.146</td>\n",
       "    </tr>\n",
       "    <tr>\n",
       "      <th>1</th>\n",
       "      <td>216</td>\n",
       "      <td>1.587</td>\n",
       "      <td>1.625</td>\n",
       "      <td>1.662</td>\n",
       "    </tr>\n",
       "    <tr>\n",
       "      <th>2</th>\n",
       "      <td>316</td>\n",
       "      <td>2.028</td>\n",
       "      <td>2.076</td>\n",
       "      <td>2.106</td>\n",
       "    </tr>\n",
       "    <tr>\n",
       "      <th>3</th>\n",
       "      <td>416</td>\n",
       "      <td>2.560</td>\n",
       "      <td>2.590</td>\n",
       "      <td>2.604</td>\n",
       "    </tr>\n",
       "    <tr>\n",
       "      <th>4</th>\n",
       "      <td>516</td>\n",
       "      <td>3.023</td>\n",
       "      <td>3.077</td>\n",
       "      <td>3.097</td>\n",
       "    </tr>\n",
       "    <tr>\n",
       "      <th>...</th>\n",
       "      <td>...</td>\n",
       "      <td>...</td>\n",
       "      <td>...</td>\n",
       "      <td>...</td>\n",
       "    </tr>\n",
       "    <tr>\n",
       "      <th>125</th>\n",
       "      <td>9600</td>\n",
       "      <td>21.308</td>\n",
       "      <td>21.320</td>\n",
       "      <td>21.360</td>\n",
       "    </tr>\n",
       "    <tr>\n",
       "      <th>126</th>\n",
       "      <td>9700</td>\n",
       "      <td>21.475</td>\n",
       "      <td>21.484</td>\n",
       "      <td>21.508</td>\n",
       "    </tr>\n",
       "    <tr>\n",
       "      <th>127</th>\n",
       "      <td>9800</td>\n",
       "      <td>21.631</td>\n",
       "      <td>21.638</td>\n",
       "      <td>21.679</td>\n",
       "    </tr>\n",
       "    <tr>\n",
       "      <th>128</th>\n",
       "      <td>9900</td>\n",
       "      <td>21.793</td>\n",
       "      <td>21.805</td>\n",
       "      <td>21.822</td>\n",
       "    </tr>\n",
       "    <tr>\n",
       "      <th>129</th>\n",
       "      <td>10000</td>\n",
       "      <td>21.896</td>\n",
       "      <td>21.926</td>\n",
       "      <td>21.938</td>\n",
       "    </tr>\n",
       "  </tbody>\n",
       "</table>\n",
       "<p>130 rows × 4 columns</p>\n",
       "</div>"
      ],
      "text/plain": [
       "        16   0.589   0.666   0.692\n",
       "0      116   1.062   1.117   1.146\n",
       "1      216   1.587   1.625   1.662\n",
       "2      316   2.028   2.076   2.106\n",
       "3      416   2.560   2.590   2.604\n",
       "4      516   3.023   3.077   3.097\n",
       "..     ...     ...     ...     ...\n",
       "125   9600  21.308  21.320  21.360\n",
       "126   9700  21.475  21.484  21.508\n",
       "127   9800  21.631  21.638  21.679\n",
       "128   9900  21.793  21.805  21.822\n",
       "129  10000  21.896  21.926  21.938\n",
       "\n",
       "[130 rows x 4 columns]"
      ]
     },
     "execution_count": 3,
     "metadata": {},
     "output_type": "execute_result"
    }
   ],
   "source": [
    "data= pd.read_csv('10MDir/10Mbitdiretto.txt',delimiter=' ')\n",
    "data"
   ]
  },
  {
   "cell_type": "code",
   "execution_count": 4,
   "id": "b25baf08",
   "metadata": {},
   "outputs": [],
   "source": [
    "maxSize = 1472\n",
    "L2size  = 1538\n",
    "headers = 58\n",
    "\n",
    "def getLenght(s):\n",
    "    mod = (s%maxSize)\n",
    "    a = (s // maxSize) * L2size\n",
    "    if (mod != 0):\n",
    "        a = a + mod + getPadding(mod) + headers\n",
    "    return a\n",
    "\n",
    "def getPadding(x):\n",
    "    if (x < 18): return 18-x\n",
    "    return 0\n",
    "    \n",
    "getLenght  = np.vectorize(getLenght)\n",
    "getPadding = np.vectorize(getPadding)"
   ]
  },
  {
   "cell_type": "code",
   "execution_count": 5,
   "id": "3c52e405",
   "metadata": {},
   "outputs": [
    {
     "ename": "KeyError",
     "evalue": "'Size'",
     "output_type": "error",
     "traceback": [
      "\u001b[0;31m---------------------------------------------------------------------------\u001b[0m",
      "\u001b[0;31mKeyError\u001b[0m                                  Traceback (most recent call last)",
      "File \u001b[0;32m~/.local/lib/python3.9/site-packages/pandas/core/indexes/base.py:3621\u001b[0m, in \u001b[0;36mIndex.get_loc\u001b[0;34m(self, key, method, tolerance)\u001b[0m\n\u001b[1;32m   <a href='file:///home/lillo/.local/lib/python3.9/site-packages/pandas/core/indexes/base.py?line=3619'>3620</a>\u001b[0m \u001b[39mtry\u001b[39;00m:\n\u001b[0;32m-> <a href='file:///home/lillo/.local/lib/python3.9/site-packages/pandas/core/indexes/base.py?line=3620'>3621</a>\u001b[0m     \u001b[39mreturn\u001b[39;00m \u001b[39mself\u001b[39;49m\u001b[39m.\u001b[39;49m_engine\u001b[39m.\u001b[39;49mget_loc(casted_key)\n\u001b[1;32m   <a href='file:///home/lillo/.local/lib/python3.9/site-packages/pandas/core/indexes/base.py?line=3621'>3622</a>\u001b[0m \u001b[39mexcept\u001b[39;00m \u001b[39mKeyError\u001b[39;00m \u001b[39mas\u001b[39;00m err:\n",
      "File \u001b[0;32m~/.local/lib/python3.9/site-packages/pandas/_libs/index.pyx:136\u001b[0m, in \u001b[0;36mpandas._libs.index.IndexEngine.get_loc\u001b[0;34m()\u001b[0m\n",
      "File \u001b[0;32m~/.local/lib/python3.9/site-packages/pandas/_libs/index.pyx:163\u001b[0m, in \u001b[0;36mpandas._libs.index.IndexEngine.get_loc\u001b[0;34m()\u001b[0m\n",
      "File \u001b[0;32mpandas/_libs/hashtable_class_helper.pxi:5198\u001b[0m, in \u001b[0;36mpandas._libs.hashtable.PyObjectHashTable.get_item\u001b[0;34m()\u001b[0m\n",
      "File \u001b[0;32mpandas/_libs/hashtable_class_helper.pxi:5206\u001b[0m, in \u001b[0;36mpandas._libs.hashtable.PyObjectHashTable.get_item\u001b[0;34m()\u001b[0m\n",
      "\u001b[0;31mKeyError\u001b[0m: 'Size'",
      "\nThe above exception was the direct cause of the following exception:\n",
      "\u001b[0;31mKeyError\u001b[0m                                  Traceback (most recent call last)",
      "\u001b[1;32m/home/lillo/Desktop/LabInternet2022/Prima_prova.ipynb Cell 4'\u001b[0m in \u001b[0;36m<cell line: 1>\u001b[0;34m()\u001b[0m\n\u001b[0;32m----> <a href='vscode-notebook-cell:/home/lillo/Desktop/LabInternet2022/Prima_prova.ipynb#ch0000003?line=0'>1</a>\u001b[0m Size \u001b[39m=\u001b[39m data[\u001b[39m'\u001b[39;49m\u001b[39mSize\u001b[39;49m\u001b[39m'\u001b[39;49m]\u001b[39m.\u001b[39mto_numpy()\n\u001b[1;32m      <a href='vscode-notebook-cell:/home/lillo/Desktop/LabInternet2022/Prima_prova.ipynb#ch0000003?line=2'>3</a>\u001b[0m RttMin \u001b[39m=\u001b[39m data[\u001b[39m'\u001b[39m\u001b[39mRttMin\u001b[39m\u001b[39m'\u001b[39m]\u001b[39m.\u001b[39mto_numpy()\n\u001b[1;32m      <a href='vscode-notebook-cell:/home/lillo/Desktop/LabInternet2022/Prima_prova.ipynb#ch0000003?line=3'>4</a>\u001b[0m RttAvg \u001b[39m=\u001b[39m data[\u001b[39m'\u001b[39m\u001b[39mRttAvg\u001b[39m\u001b[39m'\u001b[39m]\u001b[39m.\u001b[39mto_numpy()\n",
      "File \u001b[0;32m~/.local/lib/python3.9/site-packages/pandas/core/frame.py:3505\u001b[0m, in \u001b[0;36mDataFrame.__getitem__\u001b[0;34m(self, key)\u001b[0m\n\u001b[1;32m   <a href='file:///home/lillo/.local/lib/python3.9/site-packages/pandas/core/frame.py?line=3502'>3503</a>\u001b[0m \u001b[39mif\u001b[39;00m \u001b[39mself\u001b[39m\u001b[39m.\u001b[39mcolumns\u001b[39m.\u001b[39mnlevels \u001b[39m>\u001b[39m \u001b[39m1\u001b[39m:\n\u001b[1;32m   <a href='file:///home/lillo/.local/lib/python3.9/site-packages/pandas/core/frame.py?line=3503'>3504</a>\u001b[0m     \u001b[39mreturn\u001b[39;00m \u001b[39mself\u001b[39m\u001b[39m.\u001b[39m_getitem_multilevel(key)\n\u001b[0;32m-> <a href='file:///home/lillo/.local/lib/python3.9/site-packages/pandas/core/frame.py?line=3504'>3505</a>\u001b[0m indexer \u001b[39m=\u001b[39m \u001b[39mself\u001b[39;49m\u001b[39m.\u001b[39;49mcolumns\u001b[39m.\u001b[39;49mget_loc(key)\n\u001b[1;32m   <a href='file:///home/lillo/.local/lib/python3.9/site-packages/pandas/core/frame.py?line=3505'>3506</a>\u001b[0m \u001b[39mif\u001b[39;00m is_integer(indexer):\n\u001b[1;32m   <a href='file:///home/lillo/.local/lib/python3.9/site-packages/pandas/core/frame.py?line=3506'>3507</a>\u001b[0m     indexer \u001b[39m=\u001b[39m [indexer]\n",
      "File \u001b[0;32m~/.local/lib/python3.9/site-packages/pandas/core/indexes/base.py:3623\u001b[0m, in \u001b[0;36mIndex.get_loc\u001b[0;34m(self, key, method, tolerance)\u001b[0m\n\u001b[1;32m   <a href='file:///home/lillo/.local/lib/python3.9/site-packages/pandas/core/indexes/base.py?line=3620'>3621</a>\u001b[0m     \u001b[39mreturn\u001b[39;00m \u001b[39mself\u001b[39m\u001b[39m.\u001b[39m_engine\u001b[39m.\u001b[39mget_loc(casted_key)\n\u001b[1;32m   <a href='file:///home/lillo/.local/lib/python3.9/site-packages/pandas/core/indexes/base.py?line=3621'>3622</a>\u001b[0m \u001b[39mexcept\u001b[39;00m \u001b[39mKeyError\u001b[39;00m \u001b[39mas\u001b[39;00m err:\n\u001b[0;32m-> <a href='file:///home/lillo/.local/lib/python3.9/site-packages/pandas/core/indexes/base.py?line=3622'>3623</a>\u001b[0m     \u001b[39mraise\u001b[39;00m \u001b[39mKeyError\u001b[39;00m(key) \u001b[39mfrom\u001b[39;00m \u001b[39merr\u001b[39;00m\n\u001b[1;32m   <a href='file:///home/lillo/.local/lib/python3.9/site-packages/pandas/core/indexes/base.py?line=3623'>3624</a>\u001b[0m \u001b[39mexcept\u001b[39;00m \u001b[39mTypeError\u001b[39;00m:\n\u001b[1;32m   <a href='file:///home/lillo/.local/lib/python3.9/site-packages/pandas/core/indexes/base.py?line=3624'>3625</a>\u001b[0m     \u001b[39m# If we have a listlike key, _check_indexing_error will raise\u001b[39;00m\n\u001b[1;32m   <a href='file:///home/lillo/.local/lib/python3.9/site-packages/pandas/core/indexes/base.py?line=3625'>3626</a>\u001b[0m     \u001b[39m#  InvalidIndexError. Otherwise we fall through and re-raise\u001b[39;00m\n\u001b[1;32m   <a href='file:///home/lillo/.local/lib/python3.9/site-packages/pandas/core/indexes/base.py?line=3626'>3627</a>\u001b[0m     \u001b[39m#  the TypeError.\u001b[39;00m\n\u001b[1;32m   <a href='file:///home/lillo/.local/lib/python3.9/site-packages/pandas/core/indexes/base.py?line=3627'>3628</a>\u001b[0m     \u001b[39mself\u001b[39m\u001b[39m.\u001b[39m_check_indexing_error(key)\n",
      "\u001b[0;31mKeyError\u001b[0m: 'Size'"
     ]
    }
   ],
   "source": [
    "Size = data['Size'].to_numpy()\n",
    "\n",
    "RttMin = data['RttMin'].to_numpy()\n",
    "RttAvg = data['RttAvg'].to_numpy()\n",
    "RttMax = data['RttMax'].to_numpy()\n",
    "\n",
    "lenght = getLenght(Size)"
   ]
  },
  {
   "cell_type": "code",
   "execution_count": null,
   "id": "d49f6b5d",
   "metadata": {},
   "outputs": [
    {
     "data": {
      "application/vnd.plotly.v1+json": {
       "config": {
        "plotlyServerURL": "https://plot.ly"
       },
       "data": [
        {
         "hovertemplate": "variable=wide_variable_0<br>x=%{x}<br>value=%{y}<extra></extra>",
         "legendgroup": "wide_variable_0",
         "line": {
          "color": "#636efa",
          "dash": "solid"
         },
         "marker": {
          "symbol": "circle"
         },
         "mode": "lines",
         "name": "wide_variable_0",
         "orientation": "v",
         "showlegend": true,
         "type": "scatter",
         "x": [
          76,
          174,
          274,
          374,
          474,
          574,
          674,
          774,
          874,
          974,
          1074,
          1174,
          1274,
          1374,
          1474,
          1528,
          1529,
          1538,
          1614,
          1614,
          1614,
          1614,
          1614,
          1614,
          1614,
          1614,
          1614,
          1614,
          1614,
          1614,
          1614,
          1614,
          1614,
          1614,
          1614,
          1614,
          1615,
          1616,
          1617,
          1618,
          1619,
          1620,
          1621,
          1622,
          1623,
          1624,
          1724,
          1824,
          1924,
          2024,
          2124,
          2224,
          2324,
          2424,
          2524,
          2624,
          2724,
          2824,
          2924,
          3024,
          3190,
          3290,
          3390,
          3490,
          3590,
          3690,
          3790,
          3890,
          3990,
          4090,
          4190,
          4290,
          4390,
          4490,
          4590,
          4756,
          4856,
          4956,
          5056,
          5156,
          5256,
          5356,
          5456,
          5556,
          5656,
          5756,
          5856,
          5956,
          6056,
          6228,
          6322,
          6422,
          6522,
          6622,
          6722,
          6822,
          6922,
          7022,
          7122,
          7222,
          7322,
          7422,
          7522,
          7622,
          7788,
          7888,
          7988,
          8088,
          8188,
          8288,
          8388,
          8488,
          8588,
          8688,
          8788,
          8888,
          8988,
          9088,
          9188,
          9354,
          9454,
          9554,
          9654,
          9754,
          9854,
          9954,
          10054,
          10154,
          10254,
          10354,
          10454
         ],
         "xaxis": "x",
         "y": [
          0.666,
          1.117,
          1.625,
          2.076,
          2.59,
          3.077,
          3.515,
          4.039,
          4.484,
          4.992,
          5.479,
          5.93,
          6.436,
          6.901,
          7.396,
          7.677,
          7.671,
          7.668,
          7.792,
          7.845,
          7.825,
          7.81,
          7.761,
          7.711,
          7.756,
          7.762,
          7.826,
          7.808,
          7.853,
          7.788,
          7.824,
          7.755,
          7.81,
          7.814,
          7.812,
          7.816,
          7.809,
          7.781,
          7.751,
          7.72,
          7.788,
          7.787,
          7.857,
          7.778,
          8.262,
          8.135,
          8.292,
          8.293,
          8.296,
          8.456,
          8.611,
          8.751,
          8.899,
          9.092,
          9.248,
          9.418,
          9.549,
          9.713,
          9.899,
          10.061,
          10.78,
          10.779,
          10.766,
          10.8,
          10.925,
          11.105,
          11.278,
          11.451,
          11.601,
          11.737,
          11.901,
          12.08,
          12.246,
          12.414,
          12.528,
          13.24,
          13.248,
          13.234,
          13.303,
          13.471,
          13.626,
          13.775,
          13.924,
          14.095,
          14.27,
          14.441,
          14.582,
          14.724,
          14.912,
          15.08,
          15.727,
          15.724,
          15.715,
          15.822,
          15.946,
          16.107,
          16.296,
          16.461,
          16.613,
          16.764,
          16.912,
          17.109,
          17.26,
          17.427,
          17.695,
          18.207,
          18.196,
          18.182,
          18.316,
          18.49,
          18.644,
          18.799,
          18.946,
          19.115,
          19.283,
          19.454,
          19.608,
          19.758,
          19.917,
          20.652,
          20.692,
          20.67,
          20.678,
          20.838,
          20.989,
          21.128,
          21.32,
          21.484,
          21.638,
          21.805,
          21.926
         ],
         "yaxis": "y"
        },
        {
         "hovertemplate": "variable=wide_variable_1<br>x=%{x}<br>value=%{y}<extra></extra>",
         "legendgroup": "wide_variable_1",
         "line": {
          "color": "#EF553B",
          "dash": "solid"
         },
         "marker": {
          "symbol": "circle"
         },
         "mode": "lines",
         "name": "wide_variable_1",
         "orientation": "v",
         "showlegend": true,
         "type": "scatter",
         "x": [
          76,
          174,
          274,
          374,
          474,
          574,
          674,
          774,
          874,
          974,
          1074,
          1174,
          1274,
          1374,
          1474,
          1528,
          1529,
          1538,
          1614,
          1614,
          1614,
          1614,
          1614,
          1614,
          1614,
          1614,
          1614,
          1614,
          1614,
          1614,
          1614,
          1614,
          1614,
          1614,
          1614,
          1614,
          1615,
          1616,
          1617,
          1618,
          1619,
          1620,
          1621,
          1622,
          1623,
          1624,
          1724,
          1824,
          1924,
          2024,
          2124,
          2224,
          2324,
          2424,
          2524,
          2624,
          2724,
          2824,
          2924,
          3024,
          3190,
          3290,
          3390,
          3490,
          3590,
          3690,
          3790,
          3890,
          3990,
          4090,
          4190,
          4290,
          4390,
          4490,
          4590,
          4756,
          4856,
          4956,
          5056,
          5156,
          5256,
          5356,
          5456,
          5556,
          5656,
          5756,
          5856,
          5956,
          6056,
          6228,
          6322,
          6422,
          6522,
          6622,
          6722,
          6822,
          6922,
          7022,
          7122,
          7222,
          7322,
          7422,
          7522,
          7622,
          7788,
          7888,
          7988,
          8088,
          8188,
          8288,
          8388,
          8488,
          8588,
          8688,
          8788,
          8888,
          8988,
          9088,
          9188,
          9354,
          9454,
          9554,
          9654,
          9754,
          9854,
          9954,
          10054,
          10154,
          10254,
          10354,
          10454
         ],
         "xaxis": "x",
         "y": [
          0.589,
          1.062,
          1.587,
          2.028,
          2.56,
          3.023,
          3.463,
          3.992,
          4.461,
          4.947,
          5.448,
          5.888,
          6.383,
          6.847,
          7.368,
          7.637,
          7.641,
          7.621,
          7.666,
          7.659,
          7.66,
          7.666,
          7.662,
          7.665,
          7.663,
          7.668,
          7.662,
          7.663,
          7.665,
          7.665,
          7.66,
          7.662,
          7.666,
          7.664,
          7.66,
          7.663,
          7.662,
          7.664,
          7.662,
          7.662,
          7.665,
          7.664,
          7.666,
          7.662,
          8.003,
          7.871,
          8.239,
          8.247,
          8.26,
          8.425,
          8.579,
          8.725,
          8.869,
          9.044,
          9.222,
          9.398,
          9.515,
          9.68,
          9.874,
          10.018,
          10.726,
          10.671,
          10.712,
          10.771,
          10.869,
          11.091,
          11.231,
          11.422,
          11.575,
          11.707,
          11.866,
          12.035,
          12.212,
          12.391,
          12.475,
          13.144,
          13.188,
          13.149,
          13.271,
          13.439,
          13.568,
          13.734,
          13.919,
          14.036,
          14.235,
          14.413,
          14.558,
          14.672,
          14.883,
          15.036,
          15.672,
          15.641,
          15.626,
          15.793,
          15.925,
          16.066,
          16.265,
          16.41,
          16.559,
          16.725,
          16.891,
          17.053,
          17.228,
          17.401,
          17.563,
          18.152,
          18.14,
          18.12,
          18.291,
          18.457,
          18.614,
          18.751,
          18.913,
          19.1,
          19.225,
          19.425,
          19.58,
          19.745,
          19.901,
          20.359,
          20.653,
          20.613,
          20.637,
          20.81,
          20.957,
          21.096,
          21.308,
          21.475,
          21.631,
          21.793,
          21.896
         ],
         "yaxis": "y"
        },
        {
         "hovertemplate": "variable=wide_variable_2<br>x=%{x}<br>value=%{y}<extra></extra>",
         "legendgroup": "wide_variable_2",
         "line": {
          "color": "#00cc96",
          "dash": "solid"
         },
         "marker": {
          "symbol": "circle"
         },
         "mode": "lines",
         "name": "wide_variable_2",
         "orientation": "v",
         "showlegend": true,
         "type": "scatter",
         "x": [
          76,
          174,
          274,
          374,
          474,
          574,
          674,
          774,
          874,
          974,
          1074,
          1174,
          1274,
          1374,
          1474,
          1528,
          1529,
          1538,
          1614,
          1614,
          1614,
          1614,
          1614,
          1614,
          1614,
          1614,
          1614,
          1614,
          1614,
          1614,
          1614,
          1614,
          1614,
          1614,
          1614,
          1614,
          1615,
          1616,
          1617,
          1618,
          1619,
          1620,
          1621,
          1622,
          1623,
          1624,
          1724,
          1824,
          1924,
          2024,
          2124,
          2224,
          2324,
          2424,
          2524,
          2624,
          2724,
          2824,
          2924,
          3024,
          3190,
          3290,
          3390,
          3490,
          3590,
          3690,
          3790,
          3890,
          3990,
          4090,
          4190,
          4290,
          4390,
          4490,
          4590,
          4756,
          4856,
          4956,
          5056,
          5156,
          5256,
          5356,
          5456,
          5556,
          5656,
          5756,
          5856,
          5956,
          6056,
          6228,
          6322,
          6422,
          6522,
          6622,
          6722,
          6822,
          6922,
          7022,
          7122,
          7222,
          7322,
          7422,
          7522,
          7622,
          7788,
          7888,
          7988,
          8088,
          8188,
          8288,
          8388,
          8488,
          8588,
          8688,
          8788,
          8888,
          8988,
          9088,
          9188,
          9354,
          9454,
          9554,
          9654,
          9754,
          9854,
          9954,
          10054,
          10154,
          10254,
          10354,
          10454
         ],
         "xaxis": "x",
         "y": [
          0.692,
          1.146,
          1.662,
          2.106,
          2.604,
          3.097,
          3.53,
          4.062,
          4.503,
          5.017,
          5.499,
          5.947,
          6.455,
          6.944,
          7.419,
          7.716,
          7.7,
          7.696,
          7.996,
          8.22,
          8.007,
          8.248,
          8.246,
          7.875,
          7.997,
          8.01,
          8.25,
          8.201,
          8.28,
          8.26,
          8.253,
          8.018,
          8.245,
          8.009,
          8.244,
          8.247,
          8.19,
          7.998,
          8.246,
          7.918,
          7.997,
          8.261,
          8.297,
          8.008,
          8.322,
          8.322,
          8.315,
          8.317,
          8.311,
          8.47,
          8.627,
          8.785,
          8.906,
          9.11,
          9.258,
          9.431,
          9.589,
          9.739,
          9.907,
          10.073,
          10.804,
          10.84,
          10.794,
          10.808,
          10.947,
          11.144,
          11.295,
          11.488,
          11.615,
          11.75,
          11.944,
          12.097,
          12.262,
          12.432,
          12.551,
          13.273,
          13.27,
          13.263,
          13.315,
          13.487,
          13.642,
          13.801,
          13.933,
          14.13,
          14.282,
          14.5,
          14.599,
          14.741,
          14.925,
          15.093,
          15.741,
          15.743,
          15.733,
          15.842,
          15.958,
          16.12,
          16.309,
          16.486,
          16.627,
          16.793,
          16.932,
          17.152,
          17.278,
          17.436,
          17.921,
          18.225,
          18.214,
          18.213,
          18.343,
          18.499,
          18.658,
          18.82,
          19.052,
          19.142,
          19.296,
          19.464,
          19.623,
          19.802,
          19.941,
          20.691,
          20.766,
          20.688,
          20.696,
          20.847,
          21.011,
          21.141,
          21.36,
          21.508,
          21.679,
          21.822,
          21.938
         ],
         "yaxis": "y"
        }
       ],
       "layout": {
        "legend": {
         "title": {
          "text": "variable"
         },
         "tracegroupgap": 0
        },
        "margin": {
         "t": 60
        },
        "template": {
         "data": {
          "bar": [
           {
            "error_x": {
             "color": "#2a3f5f"
            },
            "error_y": {
             "color": "#2a3f5f"
            },
            "marker": {
             "line": {
              "color": "#E5ECF6",
              "width": 0.5
             },
             "pattern": {
              "fillmode": "overlay",
              "size": 10,
              "solidity": 0.2
             }
            },
            "type": "bar"
           }
          ],
          "barpolar": [
           {
            "marker": {
             "line": {
              "color": "#E5ECF6",
              "width": 0.5
             },
             "pattern": {
              "fillmode": "overlay",
              "size": 10,
              "solidity": 0.2
             }
            },
            "type": "barpolar"
           }
          ],
          "carpet": [
           {
            "aaxis": {
             "endlinecolor": "#2a3f5f",
             "gridcolor": "white",
             "linecolor": "white",
             "minorgridcolor": "white",
             "startlinecolor": "#2a3f5f"
            },
            "baxis": {
             "endlinecolor": "#2a3f5f",
             "gridcolor": "white",
             "linecolor": "white",
             "minorgridcolor": "white",
             "startlinecolor": "#2a3f5f"
            },
            "type": "carpet"
           }
          ],
          "choropleth": [
           {
            "colorbar": {
             "outlinewidth": 0,
             "ticks": ""
            },
            "type": "choropleth"
           }
          ],
          "contour": [
           {
            "colorbar": {
             "outlinewidth": 0,
             "ticks": ""
            },
            "colorscale": [
             [
              0,
              "#0d0887"
             ],
             [
              0.1111111111111111,
              "#46039f"
             ],
             [
              0.2222222222222222,
              "#7201a8"
             ],
             [
              0.3333333333333333,
              "#9c179e"
             ],
             [
              0.4444444444444444,
              "#bd3786"
             ],
             [
              0.5555555555555556,
              "#d8576b"
             ],
             [
              0.6666666666666666,
              "#ed7953"
             ],
             [
              0.7777777777777778,
              "#fb9f3a"
             ],
             [
              0.8888888888888888,
              "#fdca26"
             ],
             [
              1,
              "#f0f921"
             ]
            ],
            "type": "contour"
           }
          ],
          "contourcarpet": [
           {
            "colorbar": {
             "outlinewidth": 0,
             "ticks": ""
            },
            "type": "contourcarpet"
           }
          ],
          "heatmap": [
           {
            "colorbar": {
             "outlinewidth": 0,
             "ticks": ""
            },
            "colorscale": [
             [
              0,
              "#0d0887"
             ],
             [
              0.1111111111111111,
              "#46039f"
             ],
             [
              0.2222222222222222,
              "#7201a8"
             ],
             [
              0.3333333333333333,
              "#9c179e"
             ],
             [
              0.4444444444444444,
              "#bd3786"
             ],
             [
              0.5555555555555556,
              "#d8576b"
             ],
             [
              0.6666666666666666,
              "#ed7953"
             ],
             [
              0.7777777777777778,
              "#fb9f3a"
             ],
             [
              0.8888888888888888,
              "#fdca26"
             ],
             [
              1,
              "#f0f921"
             ]
            ],
            "type": "heatmap"
           }
          ],
          "heatmapgl": [
           {
            "colorbar": {
             "outlinewidth": 0,
             "ticks": ""
            },
            "colorscale": [
             [
              0,
              "#0d0887"
             ],
             [
              0.1111111111111111,
              "#46039f"
             ],
             [
              0.2222222222222222,
              "#7201a8"
             ],
             [
              0.3333333333333333,
              "#9c179e"
             ],
             [
              0.4444444444444444,
              "#bd3786"
             ],
             [
              0.5555555555555556,
              "#d8576b"
             ],
             [
              0.6666666666666666,
              "#ed7953"
             ],
             [
              0.7777777777777778,
              "#fb9f3a"
             ],
             [
              0.8888888888888888,
              "#fdca26"
             ],
             [
              1,
              "#f0f921"
             ]
            ],
            "type": "heatmapgl"
           }
          ],
          "histogram": [
           {
            "marker": {
             "pattern": {
              "fillmode": "overlay",
              "size": 10,
              "solidity": 0.2
             }
            },
            "type": "histogram"
           }
          ],
          "histogram2d": [
           {
            "colorbar": {
             "outlinewidth": 0,
             "ticks": ""
            },
            "colorscale": [
             [
              0,
              "#0d0887"
             ],
             [
              0.1111111111111111,
              "#46039f"
             ],
             [
              0.2222222222222222,
              "#7201a8"
             ],
             [
              0.3333333333333333,
              "#9c179e"
             ],
             [
              0.4444444444444444,
              "#bd3786"
             ],
             [
              0.5555555555555556,
              "#d8576b"
             ],
             [
              0.6666666666666666,
              "#ed7953"
             ],
             [
              0.7777777777777778,
              "#fb9f3a"
             ],
             [
              0.8888888888888888,
              "#fdca26"
             ],
             [
              1,
              "#f0f921"
             ]
            ],
            "type": "histogram2d"
           }
          ],
          "histogram2dcontour": [
           {
            "colorbar": {
             "outlinewidth": 0,
             "ticks": ""
            },
            "colorscale": [
             [
              0,
              "#0d0887"
             ],
             [
              0.1111111111111111,
              "#46039f"
             ],
             [
              0.2222222222222222,
              "#7201a8"
             ],
             [
              0.3333333333333333,
              "#9c179e"
             ],
             [
              0.4444444444444444,
              "#bd3786"
             ],
             [
              0.5555555555555556,
              "#d8576b"
             ],
             [
              0.6666666666666666,
              "#ed7953"
             ],
             [
              0.7777777777777778,
              "#fb9f3a"
             ],
             [
              0.8888888888888888,
              "#fdca26"
             ],
             [
              1,
              "#f0f921"
             ]
            ],
            "type": "histogram2dcontour"
           }
          ],
          "mesh3d": [
           {
            "colorbar": {
             "outlinewidth": 0,
             "ticks": ""
            },
            "type": "mesh3d"
           }
          ],
          "parcoords": [
           {
            "line": {
             "colorbar": {
              "outlinewidth": 0,
              "ticks": ""
             }
            },
            "type": "parcoords"
           }
          ],
          "pie": [
           {
            "automargin": true,
            "type": "pie"
           }
          ],
          "scatter": [
           {
            "marker": {
             "colorbar": {
              "outlinewidth": 0,
              "ticks": ""
             }
            },
            "type": "scatter"
           }
          ],
          "scatter3d": [
           {
            "line": {
             "colorbar": {
              "outlinewidth": 0,
              "ticks": ""
             }
            },
            "marker": {
             "colorbar": {
              "outlinewidth": 0,
              "ticks": ""
             }
            },
            "type": "scatter3d"
           }
          ],
          "scattercarpet": [
           {
            "marker": {
             "colorbar": {
              "outlinewidth": 0,
              "ticks": ""
             }
            },
            "type": "scattercarpet"
           }
          ],
          "scattergeo": [
           {
            "marker": {
             "colorbar": {
              "outlinewidth": 0,
              "ticks": ""
             }
            },
            "type": "scattergeo"
           }
          ],
          "scattergl": [
           {
            "marker": {
             "colorbar": {
              "outlinewidth": 0,
              "ticks": ""
             }
            },
            "type": "scattergl"
           }
          ],
          "scattermapbox": [
           {
            "marker": {
             "colorbar": {
              "outlinewidth": 0,
              "ticks": ""
             }
            },
            "type": "scattermapbox"
           }
          ],
          "scatterpolar": [
           {
            "marker": {
             "colorbar": {
              "outlinewidth": 0,
              "ticks": ""
             }
            },
            "type": "scatterpolar"
           }
          ],
          "scatterpolargl": [
           {
            "marker": {
             "colorbar": {
              "outlinewidth": 0,
              "ticks": ""
             }
            },
            "type": "scatterpolargl"
           }
          ],
          "scatterternary": [
           {
            "marker": {
             "colorbar": {
              "outlinewidth": 0,
              "ticks": ""
             }
            },
            "type": "scatterternary"
           }
          ],
          "surface": [
           {
            "colorbar": {
             "outlinewidth": 0,
             "ticks": ""
            },
            "colorscale": [
             [
              0,
              "#0d0887"
             ],
             [
              0.1111111111111111,
              "#46039f"
             ],
             [
              0.2222222222222222,
              "#7201a8"
             ],
             [
              0.3333333333333333,
              "#9c179e"
             ],
             [
              0.4444444444444444,
              "#bd3786"
             ],
             [
              0.5555555555555556,
              "#d8576b"
             ],
             [
              0.6666666666666666,
              "#ed7953"
             ],
             [
              0.7777777777777778,
              "#fb9f3a"
             ],
             [
              0.8888888888888888,
              "#fdca26"
             ],
             [
              1,
              "#f0f921"
             ]
            ],
            "type": "surface"
           }
          ],
          "table": [
           {
            "cells": {
             "fill": {
              "color": "#EBF0F8"
             },
             "line": {
              "color": "white"
             }
            },
            "header": {
             "fill": {
              "color": "#C8D4E3"
             },
             "line": {
              "color": "white"
             }
            },
            "type": "table"
           }
          ]
         },
         "layout": {
          "annotationdefaults": {
           "arrowcolor": "#2a3f5f",
           "arrowhead": 0,
           "arrowwidth": 1
          },
          "autotypenumbers": "strict",
          "coloraxis": {
           "colorbar": {
            "outlinewidth": 0,
            "ticks": ""
           }
          },
          "colorscale": {
           "diverging": [
            [
             0,
             "#8e0152"
            ],
            [
             0.1,
             "#c51b7d"
            ],
            [
             0.2,
             "#de77ae"
            ],
            [
             0.3,
             "#f1b6da"
            ],
            [
             0.4,
             "#fde0ef"
            ],
            [
             0.5,
             "#f7f7f7"
            ],
            [
             0.6,
             "#e6f5d0"
            ],
            [
             0.7,
             "#b8e186"
            ],
            [
             0.8,
             "#7fbc41"
            ],
            [
             0.9,
             "#4d9221"
            ],
            [
             1,
             "#276419"
            ]
           ],
           "sequential": [
            [
             0,
             "#0d0887"
            ],
            [
             0.1111111111111111,
             "#46039f"
            ],
            [
             0.2222222222222222,
             "#7201a8"
            ],
            [
             0.3333333333333333,
             "#9c179e"
            ],
            [
             0.4444444444444444,
             "#bd3786"
            ],
            [
             0.5555555555555556,
             "#d8576b"
            ],
            [
             0.6666666666666666,
             "#ed7953"
            ],
            [
             0.7777777777777778,
             "#fb9f3a"
            ],
            [
             0.8888888888888888,
             "#fdca26"
            ],
            [
             1,
             "#f0f921"
            ]
           ],
           "sequentialminus": [
            [
             0,
             "#0d0887"
            ],
            [
             0.1111111111111111,
             "#46039f"
            ],
            [
             0.2222222222222222,
             "#7201a8"
            ],
            [
             0.3333333333333333,
             "#9c179e"
            ],
            [
             0.4444444444444444,
             "#bd3786"
            ],
            [
             0.5555555555555556,
             "#d8576b"
            ],
            [
             0.6666666666666666,
             "#ed7953"
            ],
            [
             0.7777777777777778,
             "#fb9f3a"
            ],
            [
             0.8888888888888888,
             "#fdca26"
            ],
            [
             1,
             "#f0f921"
            ]
           ]
          },
          "colorway": [
           "#636efa",
           "#EF553B",
           "#00cc96",
           "#ab63fa",
           "#FFA15A",
           "#19d3f3",
           "#FF6692",
           "#B6E880",
           "#FF97FF",
           "#FECB52"
          ],
          "font": {
           "color": "#2a3f5f"
          },
          "geo": {
           "bgcolor": "white",
           "lakecolor": "white",
           "landcolor": "#E5ECF6",
           "showlakes": true,
           "showland": true,
           "subunitcolor": "white"
          },
          "hoverlabel": {
           "align": "left"
          },
          "hovermode": "closest",
          "mapbox": {
           "style": "light"
          },
          "paper_bgcolor": "white",
          "plot_bgcolor": "#E5ECF6",
          "polar": {
           "angularaxis": {
            "gridcolor": "white",
            "linecolor": "white",
            "ticks": ""
           },
           "bgcolor": "#E5ECF6",
           "radialaxis": {
            "gridcolor": "white",
            "linecolor": "white",
            "ticks": ""
           }
          },
          "scene": {
           "xaxis": {
            "backgroundcolor": "#E5ECF6",
            "gridcolor": "white",
            "gridwidth": 2,
            "linecolor": "white",
            "showbackground": true,
            "ticks": "",
            "zerolinecolor": "white"
           },
           "yaxis": {
            "backgroundcolor": "#E5ECF6",
            "gridcolor": "white",
            "gridwidth": 2,
            "linecolor": "white",
            "showbackground": true,
            "ticks": "",
            "zerolinecolor": "white"
           },
           "zaxis": {
            "backgroundcolor": "#E5ECF6",
            "gridcolor": "white",
            "gridwidth": 2,
            "linecolor": "white",
            "showbackground": true,
            "ticks": "",
            "zerolinecolor": "white"
           }
          },
          "shapedefaults": {
           "line": {
            "color": "#2a3f5f"
           }
          },
          "ternary": {
           "aaxis": {
            "gridcolor": "white",
            "linecolor": "white",
            "ticks": ""
           },
           "baxis": {
            "gridcolor": "white",
            "linecolor": "white",
            "ticks": ""
           },
           "bgcolor": "#E5ECF6",
           "caxis": {
            "gridcolor": "white",
            "linecolor": "white",
            "ticks": ""
           }
          },
          "title": {
           "x": 0.05
          },
          "xaxis": {
           "automargin": true,
           "gridcolor": "white",
           "linecolor": "white",
           "ticks": "",
           "title": {
            "standoff": 15
           },
           "zerolinecolor": "white",
           "zerolinewidth": 2
          },
          "yaxis": {
           "automargin": true,
           "gridcolor": "white",
           "linecolor": "white",
           "ticks": "",
           "title": {
            "standoff": 15
           },
           "zerolinecolor": "white",
           "zerolinewidth": 2
          }
         }
        },
        "xaxis": {
         "anchor": "y",
         "domain": [
          0,
          1
         ],
         "title": {
          "text": "x"
         }
        },
        "yaxis": {
         "anchor": "x",
         "domain": [
          0,
          1
         ],
         "title": {
          "text": "value"
         }
        }
       }
      },
      "text/html": [
       "<div>                            <div id=\"9d5e293b-e574-4a53-8daf-d10e57570b8b\" class=\"plotly-graph-div\" style=\"height:525px; width:100%;\"></div>            <script type=\"text/javascript\">                require([\"plotly\"], function(Plotly) {                    window.PLOTLYENV=window.PLOTLYENV || {};                                    if (document.getElementById(\"9d5e293b-e574-4a53-8daf-d10e57570b8b\")) {                    Plotly.newPlot(                        \"9d5e293b-e574-4a53-8daf-d10e57570b8b\",                        [{\"hovertemplate\":\"variable=wide_variable_0<br>x=%{x}<br>value=%{y}<extra></extra>\",\"legendgroup\":\"wide_variable_0\",\"line\":{\"color\":\"#636efa\",\"dash\":\"solid\"},\"marker\":{\"symbol\":\"circle\"},\"mode\":\"lines\",\"name\":\"wide_variable_0\",\"orientation\":\"v\",\"showlegend\":true,\"x\":[76,174,274,374,474,574,674,774,874,974,1074,1174,1274,1374,1474,1528,1529,1538,1614,1614,1614,1614,1614,1614,1614,1614,1614,1614,1614,1614,1614,1614,1614,1614,1614,1614,1615,1616,1617,1618,1619,1620,1621,1622,1623,1624,1724,1824,1924,2024,2124,2224,2324,2424,2524,2624,2724,2824,2924,3024,3190,3290,3390,3490,3590,3690,3790,3890,3990,4090,4190,4290,4390,4490,4590,4756,4856,4956,5056,5156,5256,5356,5456,5556,5656,5756,5856,5956,6056,6228,6322,6422,6522,6622,6722,6822,6922,7022,7122,7222,7322,7422,7522,7622,7788,7888,7988,8088,8188,8288,8388,8488,8588,8688,8788,8888,8988,9088,9188,9354,9454,9554,9654,9754,9854,9954,10054,10154,10254,10354,10454],\"xaxis\":\"x\",\"y\":[0.666,1.117,1.625,2.076,2.59,3.077,3.515,4.039,4.484,4.992,5.479,5.93,6.436,6.901,7.396,7.677,7.671,7.668,7.792,7.845,7.825,7.81,7.761,7.711,7.756,7.762,7.826,7.808,7.853,7.788,7.824,7.755,7.81,7.814,7.812,7.816,7.809,7.781,7.751,7.72,7.788,7.787,7.857,7.778,8.262,8.135,8.292,8.293,8.296,8.456,8.611,8.751,8.899,9.092,9.248,9.418,9.549,9.713,9.899,10.061,10.78,10.779,10.766,10.8,10.925,11.105,11.278,11.451,11.601,11.737,11.901,12.08,12.246,12.414,12.528,13.24,13.248,13.234,13.303,13.471,13.626,13.775,13.924,14.095,14.27,14.441,14.582,14.724,14.912,15.08,15.727,15.724,15.715,15.822,15.946,16.107,16.296,16.461,16.613,16.764,16.912,17.109,17.26,17.427,17.695,18.207,18.196,18.182,18.316,18.49,18.644,18.799,18.946,19.115,19.283,19.454,19.608,19.758,19.917,20.652,20.692,20.67,20.678,20.838,20.989,21.128,21.32,21.484,21.638,21.805,21.926],\"yaxis\":\"y\",\"type\":\"scatter\"},{\"hovertemplate\":\"variable=wide_variable_1<br>x=%{x}<br>value=%{y}<extra></extra>\",\"legendgroup\":\"wide_variable_1\",\"line\":{\"color\":\"#EF553B\",\"dash\":\"solid\"},\"marker\":{\"symbol\":\"circle\"},\"mode\":\"lines\",\"name\":\"wide_variable_1\",\"orientation\":\"v\",\"showlegend\":true,\"x\":[76,174,274,374,474,574,674,774,874,974,1074,1174,1274,1374,1474,1528,1529,1538,1614,1614,1614,1614,1614,1614,1614,1614,1614,1614,1614,1614,1614,1614,1614,1614,1614,1614,1615,1616,1617,1618,1619,1620,1621,1622,1623,1624,1724,1824,1924,2024,2124,2224,2324,2424,2524,2624,2724,2824,2924,3024,3190,3290,3390,3490,3590,3690,3790,3890,3990,4090,4190,4290,4390,4490,4590,4756,4856,4956,5056,5156,5256,5356,5456,5556,5656,5756,5856,5956,6056,6228,6322,6422,6522,6622,6722,6822,6922,7022,7122,7222,7322,7422,7522,7622,7788,7888,7988,8088,8188,8288,8388,8488,8588,8688,8788,8888,8988,9088,9188,9354,9454,9554,9654,9754,9854,9954,10054,10154,10254,10354,10454],\"xaxis\":\"x\",\"y\":[0.589,1.062,1.587,2.028,2.56,3.023,3.463,3.992,4.461,4.947,5.448,5.888,6.383,6.847,7.368,7.637,7.641,7.621,7.666,7.659,7.66,7.666,7.662,7.665,7.663,7.668,7.662,7.663,7.665,7.665,7.66,7.662,7.666,7.664,7.66,7.663,7.662,7.664,7.662,7.662,7.665,7.664,7.666,7.662,8.003,7.871,8.239,8.247,8.26,8.425,8.579,8.725,8.869,9.044,9.222,9.398,9.515,9.68,9.874,10.018,10.726,10.671,10.712,10.771,10.869,11.091,11.231,11.422,11.575,11.707,11.866,12.035,12.212,12.391,12.475,13.144,13.188,13.149,13.271,13.439,13.568,13.734,13.919,14.036,14.235,14.413,14.558,14.672,14.883,15.036,15.672,15.641,15.626,15.793,15.925,16.066,16.265,16.41,16.559,16.725,16.891,17.053,17.228,17.401,17.563,18.152,18.14,18.12,18.291,18.457,18.614,18.751,18.913,19.1,19.225,19.425,19.58,19.745,19.901,20.359,20.653,20.613,20.637,20.81,20.957,21.096,21.308,21.475,21.631,21.793,21.896],\"yaxis\":\"y\",\"type\":\"scatter\"},{\"hovertemplate\":\"variable=wide_variable_2<br>x=%{x}<br>value=%{y}<extra></extra>\",\"legendgroup\":\"wide_variable_2\",\"line\":{\"color\":\"#00cc96\",\"dash\":\"solid\"},\"marker\":{\"symbol\":\"circle\"},\"mode\":\"lines\",\"name\":\"wide_variable_2\",\"orientation\":\"v\",\"showlegend\":true,\"x\":[76,174,274,374,474,574,674,774,874,974,1074,1174,1274,1374,1474,1528,1529,1538,1614,1614,1614,1614,1614,1614,1614,1614,1614,1614,1614,1614,1614,1614,1614,1614,1614,1614,1615,1616,1617,1618,1619,1620,1621,1622,1623,1624,1724,1824,1924,2024,2124,2224,2324,2424,2524,2624,2724,2824,2924,3024,3190,3290,3390,3490,3590,3690,3790,3890,3990,4090,4190,4290,4390,4490,4590,4756,4856,4956,5056,5156,5256,5356,5456,5556,5656,5756,5856,5956,6056,6228,6322,6422,6522,6622,6722,6822,6922,7022,7122,7222,7322,7422,7522,7622,7788,7888,7988,8088,8188,8288,8388,8488,8588,8688,8788,8888,8988,9088,9188,9354,9454,9554,9654,9754,9854,9954,10054,10154,10254,10354,10454],\"xaxis\":\"x\",\"y\":[0.692,1.146,1.662,2.106,2.604,3.097,3.53,4.062,4.503,5.017,5.499,5.947,6.455,6.944,7.419,7.716,7.7,7.696,7.996,8.22,8.007,8.248,8.246,7.875,7.997,8.01,8.25,8.201,8.28,8.26,8.253,8.018,8.245,8.009,8.244,8.247,8.19,7.998,8.246,7.918,7.997,8.261,8.297,8.008,8.322,8.322,8.315,8.317,8.311,8.47,8.627,8.785,8.906,9.11,9.258,9.431,9.589,9.739,9.907,10.073,10.804,10.84,10.794,10.808,10.947,11.144,11.295,11.488,11.615,11.75,11.944,12.097,12.262,12.432,12.551,13.273,13.27,13.263,13.315,13.487,13.642,13.801,13.933,14.13,14.282,14.5,14.599,14.741,14.925,15.093,15.741,15.743,15.733,15.842,15.958,16.12,16.309,16.486,16.627,16.793,16.932,17.152,17.278,17.436,17.921,18.225,18.214,18.213,18.343,18.499,18.658,18.82,19.052,19.142,19.296,19.464,19.623,19.802,19.941,20.691,20.766,20.688,20.696,20.847,21.011,21.141,21.36,21.508,21.679,21.822,21.938],\"yaxis\":\"y\",\"type\":\"scatter\"}],                        {\"template\":{\"data\":{\"bar\":[{\"error_x\":{\"color\":\"#2a3f5f\"},\"error_y\":{\"color\":\"#2a3f5f\"},\"marker\":{\"line\":{\"color\":\"#E5ECF6\",\"width\":0.5},\"pattern\":{\"fillmode\":\"overlay\",\"size\":10,\"solidity\":0.2}},\"type\":\"bar\"}],\"barpolar\":[{\"marker\":{\"line\":{\"color\":\"#E5ECF6\",\"width\":0.5},\"pattern\":{\"fillmode\":\"overlay\",\"size\":10,\"solidity\":0.2}},\"type\":\"barpolar\"}],\"carpet\":[{\"aaxis\":{\"endlinecolor\":\"#2a3f5f\",\"gridcolor\":\"white\",\"linecolor\":\"white\",\"minorgridcolor\":\"white\",\"startlinecolor\":\"#2a3f5f\"},\"baxis\":{\"endlinecolor\":\"#2a3f5f\",\"gridcolor\":\"white\",\"linecolor\":\"white\",\"minorgridcolor\":\"white\",\"startlinecolor\":\"#2a3f5f\"},\"type\":\"carpet\"}],\"choropleth\":[{\"colorbar\":{\"outlinewidth\":0,\"ticks\":\"\"},\"type\":\"choropleth\"}],\"contour\":[{\"colorbar\":{\"outlinewidth\":0,\"ticks\":\"\"},\"colorscale\":[[0.0,\"#0d0887\"],[0.1111111111111111,\"#46039f\"],[0.2222222222222222,\"#7201a8\"],[0.3333333333333333,\"#9c179e\"],[0.4444444444444444,\"#bd3786\"],[0.5555555555555556,\"#d8576b\"],[0.6666666666666666,\"#ed7953\"],[0.7777777777777778,\"#fb9f3a\"],[0.8888888888888888,\"#fdca26\"],[1.0,\"#f0f921\"]],\"type\":\"contour\"}],\"contourcarpet\":[{\"colorbar\":{\"outlinewidth\":0,\"ticks\":\"\"},\"type\":\"contourcarpet\"}],\"heatmap\":[{\"colorbar\":{\"outlinewidth\":0,\"ticks\":\"\"},\"colorscale\":[[0.0,\"#0d0887\"],[0.1111111111111111,\"#46039f\"],[0.2222222222222222,\"#7201a8\"],[0.3333333333333333,\"#9c179e\"],[0.4444444444444444,\"#bd3786\"],[0.5555555555555556,\"#d8576b\"],[0.6666666666666666,\"#ed7953\"],[0.7777777777777778,\"#fb9f3a\"],[0.8888888888888888,\"#fdca26\"],[1.0,\"#f0f921\"]],\"type\":\"heatmap\"}],\"heatmapgl\":[{\"colorbar\":{\"outlinewidth\":0,\"ticks\":\"\"},\"colorscale\":[[0.0,\"#0d0887\"],[0.1111111111111111,\"#46039f\"],[0.2222222222222222,\"#7201a8\"],[0.3333333333333333,\"#9c179e\"],[0.4444444444444444,\"#bd3786\"],[0.5555555555555556,\"#d8576b\"],[0.6666666666666666,\"#ed7953\"],[0.7777777777777778,\"#fb9f3a\"],[0.8888888888888888,\"#fdca26\"],[1.0,\"#f0f921\"]],\"type\":\"heatmapgl\"}],\"histogram\":[{\"marker\":{\"pattern\":{\"fillmode\":\"overlay\",\"size\":10,\"solidity\":0.2}},\"type\":\"histogram\"}],\"histogram2d\":[{\"colorbar\":{\"outlinewidth\":0,\"ticks\":\"\"},\"colorscale\":[[0.0,\"#0d0887\"],[0.1111111111111111,\"#46039f\"],[0.2222222222222222,\"#7201a8\"],[0.3333333333333333,\"#9c179e\"],[0.4444444444444444,\"#bd3786\"],[0.5555555555555556,\"#d8576b\"],[0.6666666666666666,\"#ed7953\"],[0.7777777777777778,\"#fb9f3a\"],[0.8888888888888888,\"#fdca26\"],[1.0,\"#f0f921\"]],\"type\":\"histogram2d\"}],\"histogram2dcontour\":[{\"colorbar\":{\"outlinewidth\":0,\"ticks\":\"\"},\"colorscale\":[[0.0,\"#0d0887\"],[0.1111111111111111,\"#46039f\"],[0.2222222222222222,\"#7201a8\"],[0.3333333333333333,\"#9c179e\"],[0.4444444444444444,\"#bd3786\"],[0.5555555555555556,\"#d8576b\"],[0.6666666666666666,\"#ed7953\"],[0.7777777777777778,\"#fb9f3a\"],[0.8888888888888888,\"#fdca26\"],[1.0,\"#f0f921\"]],\"type\":\"histogram2dcontour\"}],\"mesh3d\":[{\"colorbar\":{\"outlinewidth\":0,\"ticks\":\"\"},\"type\":\"mesh3d\"}],\"parcoords\":[{\"line\":{\"colorbar\":{\"outlinewidth\":0,\"ticks\":\"\"}},\"type\":\"parcoords\"}],\"pie\":[{\"automargin\":true,\"type\":\"pie\"}],\"scatter\":[{\"marker\":{\"colorbar\":{\"outlinewidth\":0,\"ticks\":\"\"}},\"type\":\"scatter\"}],\"scatter3d\":[{\"line\":{\"colorbar\":{\"outlinewidth\":0,\"ticks\":\"\"}},\"marker\":{\"colorbar\":{\"outlinewidth\":0,\"ticks\":\"\"}},\"type\":\"scatter3d\"}],\"scattercarpet\":[{\"marker\":{\"colorbar\":{\"outlinewidth\":0,\"ticks\":\"\"}},\"type\":\"scattercarpet\"}],\"scattergeo\":[{\"marker\":{\"colorbar\":{\"outlinewidth\":0,\"ticks\":\"\"}},\"type\":\"scattergeo\"}],\"scattergl\":[{\"marker\":{\"colorbar\":{\"outlinewidth\":0,\"ticks\":\"\"}},\"type\":\"scattergl\"}],\"scattermapbox\":[{\"marker\":{\"colorbar\":{\"outlinewidth\":0,\"ticks\":\"\"}},\"type\":\"scattermapbox\"}],\"scatterpolar\":[{\"marker\":{\"colorbar\":{\"outlinewidth\":0,\"ticks\":\"\"}},\"type\":\"scatterpolar\"}],\"scatterpolargl\":[{\"marker\":{\"colorbar\":{\"outlinewidth\":0,\"ticks\":\"\"}},\"type\":\"scatterpolargl\"}],\"scatterternary\":[{\"marker\":{\"colorbar\":{\"outlinewidth\":0,\"ticks\":\"\"}},\"type\":\"scatterternary\"}],\"surface\":[{\"colorbar\":{\"outlinewidth\":0,\"ticks\":\"\"},\"colorscale\":[[0.0,\"#0d0887\"],[0.1111111111111111,\"#46039f\"],[0.2222222222222222,\"#7201a8\"],[0.3333333333333333,\"#9c179e\"],[0.4444444444444444,\"#bd3786\"],[0.5555555555555556,\"#d8576b\"],[0.6666666666666666,\"#ed7953\"],[0.7777777777777778,\"#fb9f3a\"],[0.8888888888888888,\"#fdca26\"],[1.0,\"#f0f921\"]],\"type\":\"surface\"}],\"table\":[{\"cells\":{\"fill\":{\"color\":\"#EBF0F8\"},\"line\":{\"color\":\"white\"}},\"header\":{\"fill\":{\"color\":\"#C8D4E3\"},\"line\":{\"color\":\"white\"}},\"type\":\"table\"}]},\"layout\":{\"annotationdefaults\":{\"arrowcolor\":\"#2a3f5f\",\"arrowhead\":0,\"arrowwidth\":1},\"autotypenumbers\":\"strict\",\"coloraxis\":{\"colorbar\":{\"outlinewidth\":0,\"ticks\":\"\"}},\"colorscale\":{\"diverging\":[[0,\"#8e0152\"],[0.1,\"#c51b7d\"],[0.2,\"#de77ae\"],[0.3,\"#f1b6da\"],[0.4,\"#fde0ef\"],[0.5,\"#f7f7f7\"],[0.6,\"#e6f5d0\"],[0.7,\"#b8e186\"],[0.8,\"#7fbc41\"],[0.9,\"#4d9221\"],[1,\"#276419\"]],\"sequential\":[[0.0,\"#0d0887\"],[0.1111111111111111,\"#46039f\"],[0.2222222222222222,\"#7201a8\"],[0.3333333333333333,\"#9c179e\"],[0.4444444444444444,\"#bd3786\"],[0.5555555555555556,\"#d8576b\"],[0.6666666666666666,\"#ed7953\"],[0.7777777777777778,\"#fb9f3a\"],[0.8888888888888888,\"#fdca26\"],[1.0,\"#f0f921\"]],\"sequentialminus\":[[0.0,\"#0d0887\"],[0.1111111111111111,\"#46039f\"],[0.2222222222222222,\"#7201a8\"],[0.3333333333333333,\"#9c179e\"],[0.4444444444444444,\"#bd3786\"],[0.5555555555555556,\"#d8576b\"],[0.6666666666666666,\"#ed7953\"],[0.7777777777777778,\"#fb9f3a\"],[0.8888888888888888,\"#fdca26\"],[1.0,\"#f0f921\"]]},\"colorway\":[\"#636efa\",\"#EF553B\",\"#00cc96\",\"#ab63fa\",\"#FFA15A\",\"#19d3f3\",\"#FF6692\",\"#B6E880\",\"#FF97FF\",\"#FECB52\"],\"font\":{\"color\":\"#2a3f5f\"},\"geo\":{\"bgcolor\":\"white\",\"lakecolor\":\"white\",\"landcolor\":\"#E5ECF6\",\"showlakes\":true,\"showland\":true,\"subunitcolor\":\"white\"},\"hoverlabel\":{\"align\":\"left\"},\"hovermode\":\"closest\",\"mapbox\":{\"style\":\"light\"},\"paper_bgcolor\":\"white\",\"plot_bgcolor\":\"#E5ECF6\",\"polar\":{\"angularaxis\":{\"gridcolor\":\"white\",\"linecolor\":\"white\",\"ticks\":\"\"},\"bgcolor\":\"#E5ECF6\",\"radialaxis\":{\"gridcolor\":\"white\",\"linecolor\":\"white\",\"ticks\":\"\"}},\"scene\":{\"xaxis\":{\"backgroundcolor\":\"#E5ECF6\",\"gridcolor\":\"white\",\"gridwidth\":2,\"linecolor\":\"white\",\"showbackground\":true,\"ticks\":\"\",\"zerolinecolor\":\"white\"},\"yaxis\":{\"backgroundcolor\":\"#E5ECF6\",\"gridcolor\":\"white\",\"gridwidth\":2,\"linecolor\":\"white\",\"showbackground\":true,\"ticks\":\"\",\"zerolinecolor\":\"white\"},\"zaxis\":{\"backgroundcolor\":\"#E5ECF6\",\"gridcolor\":\"white\",\"gridwidth\":2,\"linecolor\":\"white\",\"showbackground\":true,\"ticks\":\"\",\"zerolinecolor\":\"white\"}},\"shapedefaults\":{\"line\":{\"color\":\"#2a3f5f\"}},\"ternary\":{\"aaxis\":{\"gridcolor\":\"white\",\"linecolor\":\"white\",\"ticks\":\"\"},\"baxis\":{\"gridcolor\":\"white\",\"linecolor\":\"white\",\"ticks\":\"\"},\"bgcolor\":\"#E5ECF6\",\"caxis\":{\"gridcolor\":\"white\",\"linecolor\":\"white\",\"ticks\":\"\"}},\"title\":{\"x\":0.05},\"xaxis\":{\"automargin\":true,\"gridcolor\":\"white\",\"linecolor\":\"white\",\"ticks\":\"\",\"title\":{\"standoff\":15},\"zerolinecolor\":\"white\",\"zerolinewidth\":2},\"yaxis\":{\"automargin\":true,\"gridcolor\":\"white\",\"linecolor\":\"white\",\"ticks\":\"\",\"title\":{\"standoff\":15},\"zerolinecolor\":\"white\",\"zerolinewidth\":2}}},\"xaxis\":{\"anchor\":\"y\",\"domain\":[0.0,1.0],\"title\":{\"text\":\"x\"}},\"yaxis\":{\"anchor\":\"x\",\"domain\":[0.0,1.0],\"title\":{\"text\":\"value\"}},\"legend\":{\"title\":{\"text\":\"variable\"},\"tracegroupgap\":0},\"margin\":{\"t\":60}},                        {\"responsive\": true}                    ).then(function(){\n",
       "                            \n",
       "var gd = document.getElementById('9d5e293b-e574-4a53-8daf-d10e57570b8b');\n",
       "var x = new MutationObserver(function (mutations, observer) {{\n",
       "        var display = window.getComputedStyle(gd).display;\n",
       "        if (!display || display === 'none') {{\n",
       "            console.log([gd, 'removed!']);\n",
       "            Plotly.purge(gd);\n",
       "            observer.disconnect();\n",
       "        }}\n",
       "}});\n",
       "\n",
       "// Listen for the removal of the full notebook cells\n",
       "var notebookContainer = gd.closest('#notebook-container');\n",
       "if (notebookContainer) {{\n",
       "    x.observe(notebookContainer, {childList: true});\n",
       "}}\n",
       "\n",
       "// Listen for the clearing of the current output cell\n",
       "var outputEl = gd.closest('.output');\n",
       "if (outputEl) {{\n",
       "    x.observe(outputEl, {childList: true});\n",
       "}}\n",
       "\n",
       "                        })                };                });            </script>        </div>"
      ]
     },
     "metadata": {},
     "output_type": "display_data"
    }
   ],
   "source": [
    "fig = px.line(x=lenght, y=[RttAvg, RttMin, RttMax])\n",
    "fig.show()"
   ]
  },
  {
   "cell_type": "code",
   "execution_count": null,
   "id": "99dcfac7",
   "metadata": {},
   "outputs": [],
   "source": [
    "speed(s,rttMin) = 2*8*D(s)/rttMin/1000\n",
    "\n",
    "def getSpeed()"
   ]
  }
 ],
 "metadata": {
  "kernelspec": {
   "display_name": "Python 3 (ipykernel)",
   "language": "python",
   "name": "python3"
  },
  "language_info": {
   "codemirror_mode": {
    "name": "ipython",
    "version": 3
   },
   "file_extension": ".py",
   "mimetype": "text/x-python",
   "name": "python",
   "nbconvert_exporter": "python",
   "pygments_lexer": "ipython3",
   "version": "3.9.7"
  }
 },
 "nbformat": 4,
 "nbformat_minor": 5
}
