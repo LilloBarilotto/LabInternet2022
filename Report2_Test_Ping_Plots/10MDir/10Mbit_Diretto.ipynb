{
 "cells": [
  {
   "cell_type": "code",
   "execution_count": null,
   "id": "d8ea0fc6",
   "metadata": {},
   "outputs": [],
   "source": [
    "import matplotlib.pyplot as plt\n",
    "import numpy as np\n",
    "import pandas as pd\n",
    "import plotly.express as px"
   ]
  },
  {
   "cell_type": "code",
   "execution_count": null,
   "id": "6d3dbc61",
   "metadata": {},
   "outputs": [],
   "source": [
    "data= pd.read_csv('10Mbitdiretto.txt',delimiter=' ')\n",
    "data"
   ]
  },
  {
   "cell_type": "code",
   "execution_count": null,
   "id": "b25baf08",
   "metadata": {},
   "outputs": [],
   "source": [
    "maxSize = 1472\n",
    "L2size  = 1538\n",
    "headers = 58\n",
    "\n",
    "def getLenght(s):\n",
    "    mod = (s%maxSize)\n",
    "    a = (s // maxSize) * L2size\n",
    "    if (mod != 0):\n",
    "        a = a + mod + getPadding(mod) + headers\n",
    "    return a\n",
    "\n",
    "def getPadding(x):\n",
    "    if (x < 18): return 18-x\n",
    "    return 0\n",
    "\n",
    "def getRttTheory(d, C):\n",
    "    res= 2*d*8*(10**3)/(C)\n",
    "    return res\n",
    "\n",
    "# def getRttTheory_Switch(d): da completare\n",
    "\n",
    "    \n",
    "getLenght  = np.vectorize(getLenght)\n",
    "getPadding = np.vectorize(getPadding)"
   ]
  },
  {
   "cell_type": "code",
   "execution_count": null,
   "id": "3c52e405",
   "metadata": {},
   "outputs": [],
   "source": [
    "Size = data['Size'].to_numpy()\n",
    "\n",
    "RttMin = data['RttMin'].to_numpy()\n",
    "RttAvg = data['RttAvg'].to_numpy()\n",
    "RttMax = data['RttMax'].to_numpy()\n",
    "\n",
    "lenght = getLenght(Size)\n",
    "RttTheory = getRttTheory(lenght, 10*10**6)"
   ]
  },
  {
   "cell_type": "code",
   "execution_count": null,
   "id": "d49f6b5d",
   "metadata": {},
   "outputs": [],
   "source": [
    "fig = px.line(x=lenght, y=[RttMin, RttAvg, RttMax, RttTheory],\n",
    "                markers=True ,labels=dict(x=\"Data [bytes]\", value=\"RTT [ms]\", variable=\"Tipologia di RTT\"),\n",
    "                width=1400, height= 900)\n",
    "\n",
    "newnamesFig = {'wide_variable_0':'RttMin', 'wide_variable_1':'RttAvg', 'wide_variable_2':'RttMax', 'wide_variable_3': 'RttTheory'}\n",
    "fig.for_each_trace(lambda t: t.update(name = newnamesFig[t.name],\n",
    "                                      legendgroup = newnamesFig[t.name],\n",
    "                                      hovertemplate = t.hovertemplate.replace(t.name, newnamesFig[t.name])\n",
    "                                     )\n",
    "                  )\n",
    "fig.show()"
   ]
  },
  {
   "cell_type": "code",
   "execution_count": null,
   "id": "99dcfac7",
   "metadata": {},
   "outputs": [],
   "source": [
    "def getCapacity_sec(d, rtt):\n",
    "    x=  2*8*d/rtt/1000\n",
    "    return x\n",
    "\n",
    "Speed= getCapacity_sec(lenght, RttMin)\n",
    "SpeedTheory = getCapacity_sec(lenght, RttTheory)\n",
    "\n",
    "fig2 = px.line(x=lenght, y=[Speed, SpeedTheory], labels=dict(x=\"Data [bytes]\", value=\"Capacity [Mbit/s]\", variable=\"Types of Capacity\"))\n",
    "\n",
    "newnamesFig2 = {'wide_variable_0':'Capacity(RTTmin)', 'wide_variable_1':'Capacity(RttTheory)'}\n",
    "fig2.for_each_trace(lambda t: t.update(name = newnamesFig2[t.name],\n",
    "                                      legendgroup = newnamesFig2[t.name],\n",
    "                                      hovertemplate = t.hovertemplate.replace(t.name, newnamesFig2[t.name])\n",
    "                                     )\n",
    "                  )\n",
    "\n",
    "fig2.show()"
   ]
  }
 ],
 "metadata": {
  "kernelspec": {
   "display_name": "Python 3 (ipykernel)",
   "language": "python",
   "name": "python3"
  },
  "language_info": {
   "codemirror_mode": {
    "name": "ipython",
    "version": 3
   },
   "file_extension": ".py",
   "mimetype": "text/x-python",
   "name": "python",
   "nbconvert_exporter": "python",
   "pygments_lexer": "ipython3",
   "version": "3.9.7"
  }
 },
 "nbformat": 4,
 "nbformat_minor": 5
}
